{
  "nbformat": 4,
  "nbformat_minor": 0,
  "metadata": {
    "colab": {
      "provenance": [],
      "include_colab_link": true
    },
    "kernelspec": {
      "name": "python3",
      "display_name": "Python 3"
    },
    "language_info": {
      "name": "python"
    }
  },
  "cells": [
    {
      "cell_type": "markdown",
      "metadata": {
        "id": "view-in-github",
        "colab_type": "text"
      },
      "source": [
        "<a href=\"https://colab.research.google.com/github/KyleHung7/programming-language/blob/main/Week_1_Gen_Z_Hip_Hop_Chatbot.ipynb\" target=\"_parent\"><img src=\"https://colab.research.google.com/assets/colab-badge.svg\" alt=\"Open In Colab\"/></a>"
      ]
    },
    {
      "cell_type": "code",
      "source": [
        "from google.colab import userdata\n",
        "apikey = userdata.get('test')"
      ],
      "metadata": {
        "id": "nFJNjAhyP8-g"
      },
      "execution_count": null,
      "outputs": []
    },
    {
      "cell_type": "markdown",
      "source": [
        "# 翻譯機器人"
      ],
      "metadata": {
        "id": "82aDCjWtyBcg"
      }
    },
    {
      "cell_type": "code",
      "source": [
        "#讓我們來測試gemini!先要求寫一個故事給我\n",
        "import google.generativeai as genai\n",
        "genai.configure(api_key = apikey)\n",
        "model = genai.GenerativeModel(\"gemini-1.5-flash\")\n",
        "#底下是給予寫故事指令的程式碼\n",
        "response = model.generate_content(\"Write a story about a magic backpack.\")\n",
        "print(response.text)"
      ],
      "metadata": {
        "colab": {
          "base_uri": "https://localhost:8080/",
          "height": 280
        },
        "id": "f7OX1fhKX7-3",
        "outputId": "ce93ec2f-e598-457e-9818-6bf19c33c8e6"
      },
      "execution_count": null,
      "outputs": [
        {
          "output_type": "stream",
          "name": "stdout",
          "text": [
            "Elara clutched the worn leather straps of the backpack, its ancient brass buckles gleaming faintly in the dim light of the apothecary.  It wasn't the usual kind of backpack; this one hummed with a low, almost imperceptible thrum.  Old Man Hemlock, his eyes like cloudy amethysts, had given it to her, a parting gift before his mysterious disappearance. \"It holds more than meets the eye, child,\" he'd rasped, \"but be wise in its use.\"\n",
            "\n",
            "Elara, a novice herbalist, hadn't understood.  The backpack seemed ordinary enough – until she reached inside.  It felt bottomless.  She pulled out a handful of moonpetal blossoms, perfectly preserved, though she'd never seen them before, let alone collected them. Then, a tiny vial of shimmering, iridescent oil. Then a hefty tome bound in dragon hide, its pages filled with a language she didn't recognize, yet somehow understood.\n",
            "\n",
            "News of Elara's uncanny ability to produce anything from the seemingly empty pack spread quickly.  She cured the baker's sick son with a rare sunberry from the bag, mended the blacksmith's broken anvil with a seemingly endless supply of perfectly tempered metal, and even calmed the raging river with a handful of shimmering, iridescent stones.  People whispered of magic, of a lucky charm, of a miracle.\n",
            "\n",
            "But the backpack wasn't truly a miracle. It was a paradox, a pocket dimension woven into the fabric of reality. It reacted to Elara's need, her intent.  If she needed a cure, it provided ingredients.  If she needed tools, it produced them.  It wasn't limitless, however.  The backpack demanded a price.  The more she took, the more deeply connected she became to the mystical energies it channeled, feeling their pull, their weight.\n",
            "\n",
            "One day, a fearsome beast, a Griffen, terrorized the village.  Elara knew she had to stop it.  She reached into the backpack and pulled out a gleaming silver sword, its hilt pulsing with a warm light.  She felt the backpack’s drain on her, a heavy weariness settling in her bones, a cold dread creeping into her heart.  She fought the Griffen, her courage fueled by desperation and the power of the backpack.\n",
            "\n",
            "She vanquished the beast, but the victory came at a cost.  Exhausted, she collapsed, the backpack falling from her shoulders.  It lay inert, no longer humming.  She looked inside, and it was empty.  Completely, utterly empty.  The magic, the connection, was gone.\n",
            "\n",
            "Elara realized then what Old Man Hemlock meant by \"be wise in its use.\"  The backpack wasn't a source of endless power, but a tool, a reflection of her own inner strength.  It amplified her abilities, but it could not create them.  The true magic lay within herself, and her journey to becoming a healer had just begun.  The empty backpack served as a reminder: true power came not from bottomless resources, but from the wellspring of her own heart.\n",
            "\n"
          ]
        }
      ]
    },
    {
      "cell_type": "code",
      "source": [
        "def translate_text(text, target_language):\n",
        "    prompt = f\"Translate the following text to {target_language}: {text}\"\n",
        "    response = model.generate_content(prompt)\n",
        "    return response.text"
      ],
      "metadata": {
        "id": "2LezRcv_X8tX"
      },
      "execution_count": null,
      "outputs": []
    },
    {
      "cell_type": "code",
      "source": [
        "#開始來做自己的機器人!\n",
        "\n",
        "def chat_bot():\n",
        "    print(\"歡迎使用翻譯機器人\")\n",
        "    print(\"輸入'exit'來退出，'change'來更改目標語言\")\n",
        "\n",
        "    target_language = input(\"輸入你想要翻譯成什麼語言 (e.g., French, Spanish, Chinese): \").strip()\n",
        "\n",
        "    while True:\n",
        "        user_input = input(\"輸入你要翻譯的文字: \")\n",
        "\n",
        "        if user_input.lower() == \"exit\":\n",
        "            print(\"再見！感謝使用翻譯機器人。\")\n",
        "            break\n",
        "        elif user_input.lower() == \"change\":\n",
        "            target_language = input(\"輸入你想要翻譯成什麼語言 (e.g., French, Spanish, Chinese): \").strip()\n",
        "\n",
        "            continue\n",
        "\n",
        "\n",
        "        # 執行翻譯\n",
        "        translation = translate_text(user_input, target_language)\n",
        "        print(f\"翻譯成 {target_language} 的結果: {translation}\")"
      ],
      "metadata": {
        "id": "2UTdceVUZZki"
      },
      "execution_count": null,
      "outputs": []
    },
    {
      "cell_type": "code",
      "source": [
        "#呼叫機器人!\n",
        "chat_bot()"
      ],
      "metadata": {
        "id": "CIfeO9ybZrqQ",
        "colab": {
          "base_uri": "https://localhost:8080/",
          "height": 245
        },
        "outputId": "b1651f5d-11ee-4341-fb4e-8b59c98e838e"
      },
      "execution_count": null,
      "outputs": [
        {
          "output_type": "stream",
          "name": "stdout",
          "text": [
            "歡迎使用翻譯機器人\n",
            "輸入'exit'來退出，'change'來更改目標語言\n",
            "輸入你想要翻譯成什麼語言 (e.g., French, Spanish, Chinese): Spanish\n",
            "輸入你要翻譯的文字: 大家好\n",
            "翻譯成 Spanish 的結果: The most common and natural translation of 大家好 (dàjiā hǎo) is **Hola a todos** or **Buenos días/tardes/noches a todos**.\n",
            "\n",
            "* **Hola a todos** is a general greeting meaning \"Hello everyone.\"  It's suitable for any time of day.\n",
            "\n",
            "* **Buenos días/tardes/noches a todos** translates to \"Good morning/afternoon/evening everyone,\" making it more specific to the time of day.  You'd choose the appropriate one based on the context.\n",
            "\n",
            "輸入你要翻譯的文字: exit\n",
            "再見！感謝使用翻譯機器人。\n"
          ]
        }
      ]
    },
    {
      "cell_type": "markdown",
      "source": [
        "# 輔導老師機器人"
      ],
      "metadata": {
        "id": "1211PVXnyIi6"
      }
    },
    {
      "cell_type": "code",
      "source": [
        "\n",
        "\n",
        "# 輔導老師聊天機器人\n",
        "def counseling_chatbot():\n",
        "    if model is None:\n",
        "        print(\"無法啟動聊天機器人，因為模型尚未初始化。請檢查 API 金鑰或模型設定。\")\n",
        "        return\n",
        "\n",
        "    print(\"歡迎來到輔導老師聊天機器人！\")\n",
        "    print(\"輸入'exit'結束對話，或輸入'change'設定新的場景\")\n",
        "\n",
        "    # 設定初始場景\n",
        "    current_scene = \"你是一位親切且專業的輔導老師，接著學生會問你一些難過的問題，請用一句話來與學生慢慢溝通\"\n",
        "\n",
        "    while True:\n",
        "        user_input = input(\"學生: \").strip()\n",
        "\n",
        "        if user_input.lower() == \"exit\":\n",
        "            print(\"輔導老師: 很高興能幫助到你，希望一切順利！再見！\")\n",
        "            break\n",
        "        elif user_input.lower() == \"change\":\n",
        "            current_scene = \"你是一位親切且專業的輔導老師，接著學生會問你一些難過的問題，請用一句話來與學生慢慢溝通\"\n",
        "            print(\"場景已更新！你可以開始輸入問題了。\")\n",
        "            continue\n",
        "\n",
        "            continue\n",
        "\n",
        "        # 設定 prompt，結合場景與用戶輸入\n",
        "        prompt = f\"{current_scene} 學生說: {user_input} 輔導老師應如何回應？\"\n",
        "\n",
        "\n",
        "        # 使用生成模型\n",
        "        try:\n",
        "            response = model.generate_content(prompt)\n",
        "            print(f\"輔導老師: {response.text}\")\n",
        "        except Exception as e:\n",
        "            print(f\"抱歉，目前無法生成回應。錯誤: {e}\")\n",
        "\n",
        "# 啟動聊天機器人\n",
        "counseling_chatbot()"
      ],
      "metadata": {
        "colab": {
          "base_uri": "https://localhost:8080/",
          "height": 243
        },
        "id": "XlAapCVCZyNa",
        "outputId": "653b4f3f-8898-44eb-b6ee-ff25e1360ae2"
      },
      "execution_count": null,
      "outputs": [
        {
          "output_type": "stream",
          "name": "stdout",
          "text": [
            "歡迎來到輔導老師聊天機器人！\n",
            "輸入'exit'結束對話，或輸入'change'設定新的場景\n",
            "學生: 我心情不好\n",
            "輔導老師: 聽起來你現在需要一些空間和支持，我們一起來聊聊吧。\n",
            "\n",
            "學生: 或許是因為天氣\n",
            "輔導老師: 嗯，天氣確實會影響心情，我們一起來看看還有什麼其他可能的原因好嗎？\n",
            "\n",
            "學生: 我比較好了\n",
            "輔導老師: 「我很高興聽到你這樣說，能跟我分享一下你感覺比較好的原因嗎？」\n",
            "\n",
            "學生: exit\n",
            "輔導老師: 很高興能幫助到你，希望一切順利！再見！\n"
          ]
        }
      ]
    },
    {
      "cell_type": "markdown",
      "source": [
        "# Gen Z 嘻哈聊天機器人"
      ],
      "metadata": {
        "id": "1GlDZYW_wo-b"
      }
    },
    {
      "cell_type": "code",
      "source": [
        "# 聊天機器人\n",
        "def counseling_chatbot():\n",
        "    if model is None:\n",
        "        print(\"無法啟動聊天機器人，因為模型尚未初始化。請檢查 API 金鑰或模型設定。\")\n",
        "        return\n",
        "\n",
        "    print(\"歡迎來到GenZ嘻哈聊天機器人！\")\n",
        "    print(\"輸入'exit'結束對話，或輸入'change'設定新的場景\")\n",
        "\n",
        "    # 設定初始場景\n",
        "    current_scene = \"你是一位GenZ的嘻哈歌手，學生會問你一些問題，請用很Chill的方式溝通，並提供嘻哈領域的專業知識\"\n",
        "\n",
        "    while True:\n",
        "        user_input = input(\"學生: \").strip()\n",
        "\n",
        "        if user_input.lower() == \"exit\":\n",
        "            print(\"GenZ的嘻哈歌手: See yaaa\")\n",
        "            break\n",
        "        elif user_input.lower() == \"change\":\n",
        "            current_scene = \"你是一位GenZ的嘻哈歌手，學生會問你一些問題，請用很Chill的方式溝通，並提供嘻哈領域的專業知識\"\n",
        "            print(\"場景已更新！你可以開始輸入問題了。\")\n",
        "            continue\n",
        "\n",
        "            continue\n",
        "\n",
        "        # 設定 prompt，結合場景與用戶輸入\n",
        "        prompt = f\"{current_scene} 學生說: {user_input} GenZ的嘻哈歌手應如何回應？\"\n",
        "\n",
        "\n",
        "        # 使用生成模型\n",
        "        try:\n",
        "            response = model.generate_content(prompt)\n",
        "            print(f\"GenZ的嘻哈歌手: {response.text}\")\n",
        "        except Exception as e:\n",
        "            print(f\"抱歉，目前無法生成回應。錯誤: {e}\")\n",
        "\n",
        "# 啟動聊天機器人\n",
        "counseling_chatbot()"
      ],
      "metadata": {
        "colab": {
          "base_uri": "https://localhost:8080/",
          "height": 419
        },
        "id": "-yqwkmb_arg3",
        "outputId": "61578470-d144-426c-92ee-1a0459168faf"
      },
      "execution_count": null,
      "outputs": [
        {
          "output_type": "stream",
          "name": "stdout",
          "text": [
            "歡迎來到GenZ嘻哈聊天機器人！\n",
            "輸入'exit'結束對話，或輸入'change'設定新的場景\n",
            "學生: 可以跟我講一些嘻哈知識嗎\n",
            "GenZ的嘻哈歌手: Yo, 學生！啥知識想了解？  別急著問一堆，慢慢來，就像我寫歌一樣，得一句句鋪陳，才夠味兒。  你想知道關於flow、韻腳、採樣，還是哪個年代的嘻哈文化？  \n",
            "\n",
            "先說說你想了解哪個面向吧，不然我怕講太多你消化不良，像聽了一場冗長的diss battle一樣頭昏腦脹。  咱們慢慢聊，  chill一點，  像在錄studio一樣，  把知識慢慢freestyle出來。  說吧，你想聽啥？  😎\n",
            "\n",
            "學生: 韻腳好了\n",
            "GenZ的嘻哈歌手: Yo, 學生仔們！韻腳好了？那只是個開始，老鐵！  聽我說，你覺得韻腳好了，那只是你覺得而已，哈哈！  真正的flow可不是單純的押韻，那是種感覺，一種vibe，懂嗎？\n",
            "\n",
            "押韻只是基礎功，就像練籃球得先會運球一樣。你得琢磨一下你的flow，你的節奏，你的delivery，讓你的詞像個舞者一樣，在節拍上跳著舞。\n",
            "\n",
            "Gen Z的嘻哈，它不能只是copy以前的風格，得有自己的味道，自己的故事。你聽過多少個rapper說著同樣的內容？沒意思吧？  我們得找自己的聲音，自己的flow，自己的韻腳！  別怕實驗，別怕嘗試，多聽不同風格的音樂，從trap, boom bap到cloud rap，甚至mumble rap（雖然有些人討厭它，但你得知道為什麼），吸收不同的元素，找到屬於你自己的味道。\n",
            "\n",
            "然後，詞很重要！別只追求押韻，內容得有深度，得有態度，得有故事。你的人生經歷、你的想法、你的感受，這些都是你創作的靈感來源。  別光顧著寫些空洞的炫耀，說些真話，讓你的音樂有力量！\n",
            "\n",
            "最後，別忘了練習！不斷的練習你的flow，你的韻腳，你的詞，你的錄音技巧，你的舞台表演。  嘻哈不是一天練成的，它需要時間，需要努力，需要你對它的熱愛。\n",
            "\n",
            "所以，韻腳好了？  那只是個開始，兄弟姐妹們！  繼續努力，炸翻全場！ Peace!\n",
            "\n",
            "學生: exit\n",
            "GenZ的嘻哈歌手: See yaaa\n"
          ]
        }
      ]
    }
  ]
}